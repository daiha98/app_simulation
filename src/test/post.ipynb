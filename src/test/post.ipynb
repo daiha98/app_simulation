{
 "cells": [
  {
   "attachments": {},
   "cell_type": "markdown",
   "metadata": {},
   "source": [
    "# **App Simulation**\n",
    "\n",
    "## Testing Model API Step\n",
    "## Felipe Daiha Alves"
   ]
  },
  {
   "attachments": {},
   "cell_type": "markdown",
   "metadata": {},
   "source": [
    "# **Objetivo**\n",
    "\n",
    "Relatório da etapa de *API* contendo informações do processo de chamada do modelo de **Inatividade de Simulações** via API. A finalidade é testar a infraestrutura criada que retorna as **probabilidades do cliente simular no próximo dia útil**."
   ]
  },
  {
   "attachments": {},
   "cell_type": "markdown",
   "metadata": {},
   "source": [
    "# **Environment**"
   ]
  },
  {
   "attachments": {},
   "cell_type": "markdown",
   "metadata": {},
   "source": [
    "### **Importando Pacotes Necessários**"
   ]
  },
  {
   "cell_type": "code",
   "execution_count": 8,
   "metadata": {},
   "outputs": [],
   "source": [
    "import json\n",
    "import requests"
   ]
  },
  {
   "attachments": {},
   "cell_type": "markdown",
   "metadata": {},
   "source": [
    "# **Chamando API**"
   ]
  },
  {
   "attachments": {},
   "cell_type": "markdown",
   "metadata": {},
   "source": [
    "### **Configurações para Invoke**"
   ]
  },
  {
   "cell_type": "code",
   "execution_count": 9,
   "metadata": {},
   "outputs": [],
   "source": [
    "# Url da API\n",
    "CONNECT_API_URL = \"http://app-simulation-load-balancer-1924520415.us-east-1.elb.amazonaws.com/invocations?\"\n",
    "\n",
    "# JSON data\n",
    "data_payload=json.dumps({\n",
    "    \"rolling_sum_simulations\": float(0.33),\n",
    "    \"rolling_sum_login_on_app\": float(0.1),\n",
    "    \"rolling_sum_approved_on_second_analysis\": float(0.22),\n",
    "    \"flag_over_loan_quantile\": int(1),\n",
    "    \"ntile_rolling_mean_days_first_analysis_first_step\": int(2)\n",
    "})\n",
    "\n",
    "# Post request dos dados\n",
    "response = requests.post(\n",
    "  CONNECT_API_URL,\n",
    "  data=data_payload,\n",
    "  headers={'Content-Type': 'application/json'},\n",
    "  timeout=30\n",
    ")"
   ]
  },
  {
   "attachments": {},
   "cell_type": "markdown",
   "metadata": {},
   "source": [
    "### **Printando Resultados**"
   ]
  },
  {
   "cell_type": "code",
   "execution_count": 11,
   "metadata": {},
   "outputs": [
    {
     "name": "stdout",
     "output_type": "stream",
     "text": [
      "{\n",
      "  \"prediction\": [\n",
      "    [\n",
      "      0.7045510659615198,\n",
      "      0.2954489340384801\n",
      "    ]\n",
      "  ]\n",
      "}\n",
      "\n"
     ]
    }
   ],
   "source": [
    "# Display de resultados para probabilidades 0 e 1\n",
    "print(response.text)"
   ]
  }
 ],
 "metadata": {
  "kernelspec": {
   "display_name": "base",
   "language": "python",
   "name": "python3"
  },
  "language_info": {
   "codemirror_mode": {
    "name": "ipython",
    "version": 3
   },
   "file_extension": ".py",
   "mimetype": "text/x-python",
   "name": "python",
   "nbconvert_exporter": "python",
   "pygments_lexer": "ipython3",
   "version": "3.9.12"
  },
  "orig_nbformat": 4
 },
 "nbformat": 4,
 "nbformat_minor": 2
}
